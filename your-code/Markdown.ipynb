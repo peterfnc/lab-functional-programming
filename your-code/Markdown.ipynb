{
 "cells": [
  {
   "cell_type": "markdown",
   "metadata": {},
   "source": [
    "# My No.1 Holiday Destination"
   ]
  },
  {
   "cell_type": "markdown",
   "metadata": {},
   "source": [
    "### And Why you should totally know about it"
   ]
  },
  {
   "cell_type": "markdown",
   "metadata": {},
   "source": [
    "Below you can find a list of all the reasons why you should know where I like to travel:\n",
    "1. My place is better than your place\n",
    "2. I'm the biggest traveller since Magellan\n",
    "3. I have to make a list"
   ]
  },
  {
   "cell_type": "code",
   "execution_count": 1,
   "metadata": {},
   "outputs": [
    {
     "name": "stdout",
     "output_type": "stream",
     "text": [
      "What's your name?Peter\n"
     ]
    },
    {
     "data": {
      "text/plain": [
       "'Peter'"
      ]
     },
     "execution_count": 1,
     "metadata": {},
     "output_type": "execute_result"
    }
   ],
   "source": [
    "def username():\n",
    "    return input(\"What's your name?\")\n",
    "\n",
    "username()"
   ]
  },
  {
   "cell_type": "markdown",
   "metadata": {},
   "source": [
    "![my_face](https://media.licdn.com/dms/image/C4E03AQFoXIMv7orRNw/profile-displayphoto-shrink_200_200/0?e=1565827200&v=beta&t=lOGb-dCocak1WY62a74LRTs4cFMepJYFM2WpfUHN6Ns)"
   ]
  },
  {
   "cell_type": "code",
   "execution_count": 2,
   "metadata": {},
   "outputs": [
    {
     "name": "stdout",
     "output_type": "stream",
     "text": [
      "What's your holiday preference?jericoacoara\n"
     ]
    },
    {
     "data": {
      "text/plain": [
       "'jericoacoara'"
      ]
     },
     "execution_count": 2,
     "metadata": {},
     "output_type": "execute_result"
    }
   ],
   "source": [
    "def holiday_pref():\n",
    "    return input(\"What's your holiday preference?\")\n",
    "\n",
    "holiday_pref()"
   ]
  },
  {
   "cell_type": "markdown",
   "metadata": {},
   "source": [
    "![jeri](http://www.tourismnewslive.com/wp-content/uploads/2018/01/Jericoacoara-beach.jpeg)"
   ]
  },
  {
   "cell_type": "markdown",
   "metadata": {},
   "source": [
    "[<img src=\"https://i.ytimg.com/an_webp/_ZhJSre7M08/mqdefault_6s.webp?du=3000&sqp=CIC9_-cF&rs=AOn4CLB6l3SH6PAqOOYI6UWpIkhuN80R9Q\">](https://www.youtube.com/watch?v=_ZhJSre7M08)"
   ]
  },
  {
   "cell_type": "code",
   "execution_count": null,
   "metadata": {},
   "outputs": [],
   "source": []
  }
 ],
 "metadata": {
  "kernelspec": {
   "display_name": "Python 3",
   "language": "python",
   "name": "python3"
  },
  "language_info": {
   "codemirror_mode": {
    "name": "ipython",
    "version": 3
   },
   "file_extension": ".py",
   "mimetype": "text/x-python",
   "name": "python",
   "nbconvert_exporter": "python",
   "pygments_lexer": "ipython3",
   "version": "3.7.0"
  }
 },
 "nbformat": 4,
 "nbformat_minor": 2
}
