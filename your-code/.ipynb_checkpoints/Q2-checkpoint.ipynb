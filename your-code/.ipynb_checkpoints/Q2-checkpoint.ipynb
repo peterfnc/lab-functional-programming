{
 "cells": [
  {
   "cell_type": "markdown",
   "metadata": {},
   "source": [
    "Now we want to enhance the `get_bow_from_docs` function so that it will work with HTML webpages. In HTML, there are a lot of messy codes such as HTML tags, Javascripts, [unicodes](https://www.w3schools.com/charsets/ref_utf_misc_symbols.asp) that will mess up your bag of words. We need to clean up those junk before generating BoW.\n",
    "\n",
    "Next, what you will do is to define several new functions each of which is specialized to clean up the HTML codes in one aspect. For instance, you can have a `strip_html_tags` function to remove all HTML tags, a `remove_punctuation` function to remove all punctuation, a `to_lower_case` function to convert string to lowercase, and a `remove_unicode` function to remove all unicodes.\n",
    "\n",
    "Then in your `get_bow_from_doc` function, you will call each of those functions you created to clean up the HTML before you generate the corpus.\n",
    "\n",
    "Note: Please use Python string operations and regular expression only in this lab. Do not use extra libraries such as `beautifulsoup` because otherwise you loose the purpose of practicing."
   ]
  },
  {
   "cell_type": "code",
   "execution_count": 133,
   "metadata": {},
   "outputs": [],
   "source": [
    "# Define your string handling functions below\n",
    "# Minimal 3 functions\n",
    "\n",
    "import re\n",
    "\n",
    "def to_lower_case(terms):\n",
    "    \n",
    "    corpus = [\"\".join(i).lower() for i in terms]\n",
    "    \n",
    "    return corpus\n",
    "\n",
    "def remove_punctuation(terms):\n",
    "    \n",
    "    corpus = [re.sub(\"\\W\", ' ', i) for i in terms]\n",
    "    \n",
    "    return corpus\n",
    "\n",
    "def has_number(terms):\n",
    "    \n",
    "    #he propado varios metosod para filtrear con regex pero me sale 'IOPub data rate exceeded'\n",
    "    \n",
    "    #regex = re.compile(r'_x\\d+_y\\d+\\.npy')\n",
    "    #selected_files = filter(regex.search, files)\n",
    "    #if re.search(r\"\\d$\", i)]\n",
    "    \n",
    "    #pattern = re.compile('[0-9]+')\n",
    "    #number_lst = filter(pattern.search, terms)\n",
    "    \n",
    "    term_str = \" \".join(terms)\n",
    "    term_lst = term_str.split()\n",
    "    \n",
    "    corpus = [i for i in term_lst if re.search(r\"\\d$\", i)]\n",
    "    \n",
    "    \n",
    "    #print(type(number_lst))\n",
    "    #corpus = [i for i in terms if i not in number_lst]\n",
    "    \n",
    "    \n",
    "    \n",
    "    return corpus"
   ]
  },
  {
   "cell_type": "markdown",
   "metadata": {},
   "source": [
    "Next, paste your previously written `get_bow_from_docs` function below. Call your functions above at the appropriate place."
   ]
  },
  {
   "cell_type": "code",
   "execution_count": 134,
   "metadata": {},
   "outputs": [],
   "source": [
    "def get_bow_from_docs(docs, stop_words=[]):\n",
    "    # In the function, first define the variables you will use such as `corpus`, `bag_of_words`, and `term_freq`.\n",
    "    corpus = []\n",
    "    bag_of_words = []\n",
    "    term_freq = []\n",
    "    \n",
    "    # write your codes here\n",
    "    \n",
    "    corpus = [open(i, \"r\").readlines() for i in docs]\n",
    "    \n",
    "    \n",
    "    \n",
    "    corpus = to_lower_case(corpus)\n",
    "    corpus = remove_punctuation(corpus)\n",
    "    corpus = has_number(corpus)\n",
    "\n",
    "    \n",
    "    terms = []\n",
    "\n",
    "    for i in range(len(corpus)):\n",
    "        terms.append(corpus[i].split())\n",
    "\n",
    "    for i in terms:\n",
    "        for j in i:\n",
    "            if j not in bag_of_words:\n",
    "                bag_of_words.append(j)\n",
    "    \n",
    "    bag_of_words_reduced = list(set(bag_of_words) - set(stop_words))\n",
    "    \n",
    "\n",
    "    for i in corpus:\n",
    "        word = i.split()\n",
    "        term_fq_sub = [word.count(j) for j in bag_of_words_reduced]\n",
    "        term_freq.append(term_fq_sub)\n",
    "    \n",
    "    return {\n",
    "        \"bag_of_words\": bag_of_words,\n",
    "        \"term_freq\": term_freq\n",
    "    }\n",
    "    "
   ]
  },
  {
   "cell_type": "markdown",
   "metadata": {},
   "source": [
    "Next, read the content from the three HTML webpages in the `your-codes` directory to test your function."
   ]
  },
  {
   "cell_type": "code",
   "execution_count": 135,
   "metadata": {},
   "outputs": [
    {
     "name": "stderr",
     "output_type": "stream",
     "text": [
      "IOPub data rate exceeded.\n",
      "The notebook server will temporarily stop sending output\n",
      "to the client in order to avoid crashing it.\n",
      "To change this limit, set the config variable\n",
      "`--NotebookApp.iopub_data_rate_limit`.\n",
      "\n",
      "Current values:\n",
      "NotebookApp.iopub_data_rate_limit=1000000.0 (bytes/sec)\n",
      "NotebookApp.rate_limit_window=3.0 (secs)\n",
      "\n"
     ]
    }
   ],
   "source": [
    "from sklearn.feature_extraction import stop_words\n",
    "bow = get_bow_from_docs([\n",
    "        'www.coursereport.com_ironhack.html',\n",
    "        'en.wikipedia.org_Data_analysis.html',\n",
    "        'www.lipsum.com.html'\n",
    "    ],\n",
    "    stop_words.ENGLISH_STOP_WORDS\n",
    ")\n",
    "\n",
    "print(bow)"
   ]
  },
  {
   "cell_type": "markdown",
   "metadata": {},
   "source": [
    "Do you see any problem in the output? How do you improve the output?\n",
    "\n",
    "A good way to improve your codes is to look into the HTML data sources and try to understand where the messy output came from. A good data analyst always learns about the data in depth in order to perform the job well.\n",
    "\n",
    "Spend 20-30 minutes to improve your functions or until you feel you are good at string operations. This lab is just a practice so you don't need to stress yourself out. If you feel you've practiced enough you can stop and move on the next challenge question."
   ]
  },
  {
   "cell_type": "code",
   "execution_count": 109,
   "metadata": {},
   "outputs": [],
   "source": [
    "bla = [i for i in [\"1\", \"a\", \"a1\", \"a1b\", \"ab12\"] if re.search(r\"\\d$\", i)]"
   ]
  },
  {
   "cell_type": "code",
   "execution_count": 110,
   "metadata": {},
   "outputs": [
    {
     "data": {
      "text/plain": [
       "['1', 'a1', 'ab12']"
      ]
     },
     "execution_count": 110,
     "metadata": {},
     "output_type": "execute_result"
    }
   ],
   "source": [
    "bla"
   ]
  },
  {
   "cell_type": "code",
   "execution_count": null,
   "metadata": {},
   "outputs": [],
   "source": []
  }
 ],
 "metadata": {
  "kernelspec": {
   "display_name": "Python 3",
   "language": "python",
   "name": "python3"
  },
  "language_info": {
   "codemirror_mode": {
    "name": "ipython",
    "version": 3
   },
   "file_extension": ".py",
   "mimetype": "text/x-python",
   "name": "python",
   "nbconvert_exporter": "python",
   "pygments_lexer": "ipython3",
   "version": "3.7.0"
  }
 },
 "nbformat": 4,
 "nbformat_minor": 2
}
