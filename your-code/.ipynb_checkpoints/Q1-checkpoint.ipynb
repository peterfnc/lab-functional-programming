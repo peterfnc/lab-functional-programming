{
 "cells": [
  {
   "cell_type": "markdown",
   "metadata": {},
   "source": [
    "In the cell below, create a Python function that wraps your previous solution for the Bag of Words lab.\n",
    "\n",
    "Requirements:\n",
    "\n",
    "1. Your function should accept the following parameters:\n",
    "    * `docs` [REQUIRED] - array of document paths.\n",
    "    * `stop_words` [OPTIONAL] - array of stop words. The default value is an empty array.\n",
    "\n",
    "1. Your function should return a Python object that contains the following:\n",
    "    * `bag_of_words` - array of strings of normalized unique words in the corpus.\n",
    "    * `term_freq` - array of the term-frequency vectors."
   ]
  },
  {
   "cell_type": "code",
   "execution_count": 12,
   "metadata": {},
   "outputs": [],
   "source": [
    "# Import required libraries\n",
    "import re\n",
    "\n",
    "# Define function\n",
    "def get_bow_from_docs(docs, stop_words=[]):\n",
    "    \n",
    "    # In the function, first define the variables you will use such as `corpus`, `bag_of_words`, and `term_freq`.\n",
    "    \n",
    "    \n",
    "    \n",
    "    \"\"\"\n",
    "    Loop `docs` and read the content of each doc into a string in `corpus`.\n",
    "    Remember to convert the doc content to lowercases and remove punctuation.\n",
    "    \"\"\"\n",
    "\n",
    "    corpus = [open(i, \"r\").readlines() for i in docs]\n",
    "    corpus_processed = [\"\".join(i).lower() for i in corpus]\n",
    "    corpus_cleaned = [re.sub(\"\\W\", ' ', i) for i in corpus_processed]\n",
    "    \n",
    "    \"\"\"\n",
    "    Loop `corpus`. Append the terms in each doc into the `bag_of_words` array. The terms in `bag_of_words` \n",
    "    should be unique which means before adding each term you need to check if it's already added to the array.\n",
    "    In addition, check if each term is in the `stop_words` array. Only append the term to `bag_of_words`\n",
    "    if it is not a stop word.\n",
    "    \"\"\"\n",
    "\n",
    "    bag_of_words = []\n",
    "\n",
    "    terms = []\n",
    "\n",
    "    for i in range(len(corpus_cleaned)):\n",
    "        terms.append(corpus_cleaned[i].split())\n",
    "\n",
    "    for i in terms:\n",
    "        for j in i:\n",
    "            if j not in bag_of_words:\n",
    "                bag_of_words.append(j)\n",
    "    \n",
    "    bag_of_words_reduced = list(set(bag_of_words) - set(stop_words))\n",
    "    \n",
    "    \"\"\"\n",
    "    Loop `corpus` again. For each doc string, count the number of occurrences of each term in `bag_of_words`. \n",
    "    Create an array for each doc's term frequency and append it to `term_freq`.\n",
    "    \"\"\"\n",
    "\n",
    "    term_freq = []\n",
    "\n",
    "\n",
    "    for i in corpus_cleaned:\n",
    "        word = i.split()\n",
    "        term_fq_sub = [word.count(j) for j in bag_of_words_reduced]\n",
    "        term_freq.append(term_fq_sub)\n",
    "    \n",
    "    \n",
    "    # Now return your output as an object\n",
    "    return {\n",
    "        \"bag_of_words\": bag_of_words_reduced,\n",
    "        \"term_freq\": term_freq\n",
    "    }\n",
    "    "
   ]
  },
  {
   "cell_type": "markdown",
   "metadata": {},
   "source": [
    "Test your function without stop words. You should see the output like below:\n",
    "\n",
    "```{'bag_of_words': ['ironhack', 'is', 'cool', 'i', 'love', 'am', 'a', 'student', 'at'], 'term_freq': [[1, 1, 1, 0, 0, 0, 0, 0, 0], [1, 0, 0, 1, 1, 0, 0, 0, 0], [1, 0, 0, 1, 0, 1, 1, 1, 1]]}```"
   ]
  },
  {
   "cell_type": "code",
   "execution_count": 13,
   "metadata": {},
   "outputs": [
    {
     "name": "stdout",
     "output_type": "stream",
     "text": [
      "{'bag_of_words': ['am', 'student', 'ironhack', 'love', 'a', 'i', 'is', 'at', 'cool'], 'term_freq': [[0, 0, 1, 0, 0, 0, 1, 0, 1], [0, 0, 1, 1, 0, 1, 0, 0, 0], [1, 1, 1, 0, 1, 1, 0, 1, 0]]}\n"
     ]
    }
   ],
   "source": [
    "# Define doc paths array\n",
    "docs = ['/Users/ferencipeter/Downloads/lab-string-operations/your-code/doc1.txt', '/Users/ferencipeter/Downloads/lab-string-operations/your-code/doc2.txt', '/Users/ferencipeter/Downloads/lab-string-operations/your-code/doc3.txt']\n",
    "\n",
    "# Obtain BoW from your function\n",
    "bow = get_bow_from_docs(docs)\n",
    "\n",
    "# Print BoW\n",
    "print(bow)"
   ]
  },
  {
   "cell_type": "markdown",
   "metadata": {},
   "source": [
    "If your attempt above is successful, nice work done!\n",
    "\n",
    "Now test your function again with the stop words. In the previous lab we defined the stop words in a large array. In this lab, we'll import the stop words from Scikit-Learn."
   ]
  },
  {
   "cell_type": "code",
   "execution_count": 9,
   "metadata": {},
   "outputs": [
    {
     "name": "stdout",
     "output_type": "stream",
     "text": [
      "frozenset({'part', 'bill', 'hasnt', 'them', 'yours', 'made', 'now', 'ours', 'there', 'himself', 'whenever', 'between', 'off', 'done', 'fifty', 'move', 'few', 'however', 'would', 'while', 'ie', 'become', 'has', 'where', 'much', 'not', 'con', 'whereby', 'top', 'than', 'been', 'then', 'must', 'itself', 'beside', 'once', 'anything', 'except', 'anyhow', 'were', 'my', 'nine', 'on', 'same', 'fifteen', 'nobody', 'became', 'when', 'may', 'former', 'before', 'latter', 'becoming', 'myself', 'though', 'describe', 'indeed', 'seems', 'whatever', 'co', 'already', 'name', 'through', 'keep', 'meanwhile', 'nevertheless', 'only', 'those', 'any', 'somehow', 'toward', 'less', 'this', 'can', 'fire', 'always', 'go', 'of', 'other', 're', 'mill', 'an', 'sometimes', 'whereas', 'themselves', 'found', 'still', 'might', 'etc', 'every', 'throughout', 'too', 'around', 'bottom', 'whose', 'several', 'something', 'us', 'due', 'why', 'five', 'ten', 'somewhere', 'towards', 'out', 'during', 'within', 'eight', 'seeming', 'your', 'amount', 'anywhere', 'each', 'nowhere', 'alone', 'what', 'to', 'about', 'whence', 'i', 'one', 'their', 'until', 'by', 'thereupon', 'at', 'next', 'beforehand', 'sixty', 'that', 'together', 'find', 'herself', 'be', 'afterwards', 'was', 'they', 'whereafter', 'some', 'because', 'take', 'none', 'are', 'yourselves', 'inc', 'all', 'two', 'here', 'above', 'eg', 'into', 'either', 'put', 'against', 'everything', 'call', 'should', 'behind', 'do', 'get', 'under', 'thin', 'he', 'whereupon', 'per', 'everyone', 'give', 'first', 'enough', 'amongst', 'cannot', 'down', 'else', 'twelve', 'own', 'upon', 'seem', 'and', 'mostly', 'sometime', 'have', 'am', 'latterly', 'she', 'both', 'noone', 'her', 'its', 'ourselves', 'beyond', 'again', 'hereupon', 'see', 'seemed', 'herein', 'could', 'his', 'with', 'up', 'others', 'in', 'un', 'cry', 'four', 'being', 'back', 'thick', 'whither', 'further', 'no', 'hence', 'therein', 'after', 'often', 'serious', 'these', 'nor', 'sincere', 'ltd', 'someone', 'besides', 'you', 'via', 'three', 'de', 'amoungst', 'hereafter', 'hereby', 'but', 'empty', 'becomes', 'from', 'so', 'please', 'rather', 'most', 'another', 'interest', 'our', 'onto', 'almost', 'least', 'whom', 'hundred', 'how', 'thereby', 'cant', 'full', 'anyway', 'system', 'perhaps', 'for', 'if', 'couldnt', 'elsewhere', 'is', 'mine', 'we', 'everywhere', 'more', 'since', 'hers', 'therefore', 'whole', 'forty', 'eleven', 'whether', 'thru', 'wherever', 'six', 'yourself', 'otherwise', 'thence', 'detail', 'many', 'who', 'twenty', 'without', 'among', 'or', 'also', 'ever', 'whoever', 'a', 'formerly', 'it', 'nothing', 'never', 'well', 'along', 'over', 'thereafter', 'show', 'front', 'as', 'neither', 'anyone', 'me', 'even', 'across', 'him', 'side', 'thus', 'had', 'will', 'below', 'fill', 'although', 'namely', 'such', 'wherein', 'very', 'last', 'which', 'the', 'yet', 'third', 'moreover'})\n"
     ]
    }
   ],
   "source": [
    "from sklearn.feature_extraction import stop_words\n",
    "print(stop_words.ENGLISH_STOP_WORDS)"
   ]
  },
  {
   "cell_type": "markdown",
   "metadata": {},
   "source": [
    "You should have seen a large list of words that looks like:\n",
    "\n",
    "```frozenset({'across', 'mine', 'cannot', ...})```\n",
    "\n",
    "`frozenset` is a type of Python object that is immutable. In this lab you can use it just like an array without conversion."
   ]
  },
  {
   "cell_type": "markdown",
   "metadata": {},
   "source": [
    "Next, test your function with supplying `stop_words.ENGLISH_STOP_WORDS` as the second parameter."
   ]
  },
  {
   "cell_type": "code",
   "execution_count": 14,
   "metadata": {},
   "outputs": [
    {
     "name": "stdout",
     "output_type": "stream",
     "text": [
      "{'bag_of_words': ['ironhack', 'love', 'student', 'cool'], 'term_freq': [[1, 0, 0, 1], [1, 1, 0, 0], [1, 0, 1, 0]]}\n"
     ]
    }
   ],
   "source": [
    "bow = get_bow_from_docs(docs, stop_words.ENGLISH_STOP_WORDS)\n",
    "\n",
    "print(bow)"
   ]
  },
  {
   "cell_type": "markdown",
   "metadata": {},
   "source": [
    "You should have seen:\n",
    "\n",
    "```{'bag_of_words': ['ironhack', 'cool', 'love', 'student'], 'term_freq': [[1, 1, 0, 0], [1, 0, 1, 0], [1, 0, 0, 1]]}```"
   ]
  },
  {
   "cell_type": "code",
   "execution_count": null,
   "metadata": {
    "collapsed": true
   },
   "outputs": [],
   "source": []
  }
 ],
 "metadata": {
  "kernelspec": {
   "display_name": "Python 3",
   "language": "python",
   "name": "python3"
  },
  "language_info": {
   "codemirror_mode": {
    "name": "ipython",
    "version": 3
   },
   "file_extension": ".py",
   "mimetype": "text/x-python",
   "name": "python",
   "nbconvert_exporter": "python",
   "pygments_lexer": "ipython3",
   "version": "3.7.0"
  }
 },
 "nbformat": 4,
 "nbformat_minor": 2
}
